{
 "cells": [
  {
   "cell_type": "markdown",
   "metadata": {},
   "source": [
    "# Quickstart\n",
    "\n",
    "The motivation for this page/notebook is to take the reader through all basic functionalities of the traffic library. We will cover:\n",
    "\n",
    "1. a [basic introduction](#Basic-introduction) about `Flight` and `Traffic` structures;\n",
    "2. how to produce [visualisations](#Visualisation-of-data) of trajectory data;\n",
    "3. how to access basic [sources of data](#Sources-of-data);\n",
    "4. a simple [use case](#Use-case) to select trajectories landing at Toulouse airport;\n",
    "5. an introduction to [declarative descriptions](#Lazy-iteration) of data preprocessing through lazy iteration.\n",
    "\n",
    "This page is also available as a notebook which can be [downloaded](https://github.com/xoolive/traffic/tree/master/docs/quickstart.ipynb) and executed locally; or loaded and executed in [Google Colab](https://colab.research.google.com/github/xoolive/traffic/blob/master/docs/quickstart.ipynb)."
   ]
  },
  {
   "cell_type": "markdown",
   "metadata": {},
   "source": [
    "**Uncomment and execute the following code in the cell below  \n",
    "_if and only if_ you are running the notebook in a Google Colab environment.**"
   ]
  },
  {
   "cell_type": "code",
   "execution_count": null,
   "metadata": {
    "colab": {},
    "colab_type": "code",
    "id": "xY1YFNSXD_bo"
   },
   "outputs": [],
   "source": [
    "#import sys\n",
    "#\n",
    "#!apt install libgeos-dev libproj-dev\n",
    "#!{sys.executable} -m pip install traffic"
   ]
  },
  {
   "cell_type": "markdown",
   "metadata": {},
   "source": [
    "## Basic introduction\n",
    "\n",
    "The traffic library provides natural methods and attributes that can be applied on trajectories and collection of trajectories, all represented as pandas DataFrames.\n",
    "\n",
    "### The *Flight* structure\n",
    "\n",
    "*Flight* is the core class offering representations, methods and attributes to single trajectories. A comprehensive description of the API is available [here](/traffic.core.flight.html).\n",
    "\n",
    "Sample trajectories are provided in the library: `belevingsvlucht` is one of them, context is explained [here](/samples.html#belevingsvlucht)."
   ]
  },
  {
   "cell_type": "code",
   "execution_count": null,
   "metadata": {},
   "outputs": [],
   "source": [
    "from traffic.data.samples import belevingsvlucht\n",
    "\n",
    "belevingsvlucht"
   ]
  },
  {
   "cell_type": "markdown",
   "metadata": {},
   "source": [
    "Among available attributes, you may want to access:\n",
    "    \n",
    "- its `callsign` (the identifier of the flight displayed on ATC screens);\n",
    "- its transponder unique identification number (`icao24`);\n",
    "- its `registration` number (tail number);\n",
    "- its `typecode` (i.e. the model of aircraft)."
   ]
  },
  {
   "cell_type": "code",
   "execution_count": null,
   "metadata": {},
   "outputs": [],
   "source": [
    "(\n",
    "    belevingsvlucht.callsign,\n",
    "    belevingsvlucht.icao24,\n",
    "    belevingsvlucht.registration,\n",
    "    belevingsvlucht.typecode,\n",
    ")"
   ]
  },
  {
   "cell_type": "markdown",
   "metadata": {},
   "source": [
    "Methods are provided to select relevant parts of the flight, e.g. based on timestamps.\n",
    "\n",
    "The `start` and `stop` attributes refer to the timestamps of the first and last recorded samples. Note that all timestamps are by default set to universal time (UTC) as it is common practice in aviation."
   ]
  },
  {
   "cell_type": "code",
   "execution_count": null,
   "metadata": {},
   "outputs": [],
   "source": [
    "(belevingsvlucht.start, belevingsvlucht.stop)"
   ]
  },
  {
   "cell_type": "code",
   "execution_count": null,
   "metadata": {},
   "outputs": [],
   "source": [
    "first30 = belevingsvlucht.first(minutes=30)\n",
    "after19 = belevingsvlucht.after(\"2018-05-30 19:00\", strict=False)"
   ]
  },
  {
   "cell_type": "code",
   "execution_count": null,
   "metadata": {},
   "outputs": [],
   "source": [
    "# Notice the \"strict\" comparison (>) vs. \"or equal\" comparison (>=)\n",
    "print(f\"between {first30.start:%H:%M:%S} and {first30.stop:%H:%M:%S}\")\n",
    "print(f\"between {after19.start:%H:%M:%S} and {after19.stop:%H:%M:%S}\")"
   ]
  },
  {
   "cell_type": "code",
   "execution_count": null,
   "metadata": {},
   "outputs": [],
   "source": [
    "between1920 = belevingsvlucht.between(\n",
    "    \"2018-05-30 19:00\", \"2018-05-30 20:00\"\n",
    ")\n",
    "between1920"
   ]
  },
  {
   "cell_type": "markdown",
   "metadata": {},
   "source": [
    "The underlying dataframe is always accessible."
   ]
  },
  {
   "cell_type": "code",
   "execution_count": null,
   "metadata": {},
   "outputs": [],
   "source": [
    "between1920.data.head()"
   ]
  },
  {
   "cell_type": "markdown",
   "metadata": {},
   "source": [
    "### The *Traffic* structure\n",
    "\n",
    "*Traffic* is the core class to represent collections of trajectories, which are all flattened in the same pandas DataFrame. A comprehensive description of the API is available [here](/traffic.core.traffic.html).\n",
    "\n",
    "We will demonstrate here with a sample of ADS-B data from the [OpenSky Network](/opensky_usage.html).\n",
    "\n",
    "The basic representation of a *Traffic* object is a summary view of the data: the structure tries to infer how to separate trajectories in the data structure based on customizable heuristics, and returns a number of sample points for each trajectory."
   ]
  },
  {
   "cell_type": "code",
   "execution_count": null,
   "metadata": {},
   "outputs": [],
   "source": [
    "from traffic.data.samples import quickstart\n",
    "\n",
    "quickstart"
   ]
  },
  {
   "cell_type": "markdown",
   "metadata": {},
   "source": [
    "*Traffic* offers the ability to **index** and **iterate** on all flights contained in the structure.\n",
    "*Traffic* will use either:\n",
    "\n",
    "- a combination of `timestamp`, `icao24` (aircraft identifier) and `callsign` (mission identifier); or\n",
    "- a customizable flight identifier (`flight_id`);\n",
    "\n",
    "as a way to separate and identify flights.\n",
    "\n",
    "Indexation will be made on either of `icao24`, `callsign` (or `flight_id` if available).\n"
   ]
  },
  {
   "cell_type": "code",
   "execution_count": null,
   "metadata": {},
   "outputs": [],
   "source": [
    "quickstart[\"AFR27GH\"]  # on callsign\n",
    "quickstart[\"393320\"]  # on icao24"
   ]
  },
  {
   "cell_type": "markdown",
   "metadata": {},
   "source": [
    "A subset of trajectories can also be selected if a list is passed an index:"
   ]
  },
  {
   "cell_type": "code",
   "execution_count": null,
   "metadata": {},
   "outputs": [],
   "source": [
    "quickstart[[\"AFR27GH\", \"HOP87DJ\"]]"
   ]
  },
  {
   "cell_type": "markdown",
   "metadata": {},
   "source": [
    "In many cases, `flight_id` are more convenient to access specific flights yielded by iteration. We may construct custom `flight_id`:"
   ]
  },
  {
   "cell_type": "code",
   "execution_count": null,
   "metadata": {},
   "outputs": [],
   "source": [
    "from traffic.core import Traffic\n",
    "\n",
    "quickstart_id = Traffic.from_flights(\n",
    "    flight.assign(flight_id=f\"{flight.callsign}_{i:03}\")\n",
    "    for i, flight in enumerate(quickstart)\n",
    ")\n",
    "quickstart_id"
   ]
  },
  {
   "cell_type": "markdown",
   "metadata": {},
   "source": [
    "or use the available `.assign_id()` method, which is implemented exactly that way.  \n",
    "(We will explain `eval()` further below)"
   ]
  },
  {
   "cell_type": "code",
   "execution_count": null,
   "metadata": {},
   "outputs": [],
   "source": [
    "quickstart.assign_id().eval()"
   ]
  },
  {
   "cell_type": "markdown",
   "metadata": {},
   "source": [
    "### Saving and loading data\n",
    "\n",
    "Some processing operations are computationally expensive and time consuming. Therefore, it may be relevant to store intermediate results in files for sharing and reusing purposes.\n",
    "\n",
    "One option is to store *Traffic* and *Flight* underlying DataFrames in pickle format. Details about storage formats are presented [here](https://traffic-viz.github.io/export.html)."
   ]
  },
  {
   "cell_type": "code",
   "execution_count": null,
   "metadata": {},
   "outputs": [],
   "source": [
    "quickstart_id.to_pickle(\"quickstart_id.pkl\")"
   ]
  },
  {
   "cell_type": "code",
   "execution_count": null,
   "metadata": {},
   "outputs": [],
   "source": [
    "from traffic.core import Traffic\n",
    "\n",
    "# load from file again\n",
    "quickstart_id = Traffic.from_file(\"quickstart_id.pkl\")"
   ]
  },
  {
   "cell_type": "markdown",
   "metadata": {},
   "source": [
    "## Visualisation of data\n",
    "\n",
    "*traffic* offers facilities to leverage the power of common visualisation renderers including [Cartopy](https://scitools.org.uk/cartopy/), a map plotting library built around Matplotlib, and [Altair](https://altair-viz.github.io/).\n",
    "\n",
    "More visualisation renderers such as Leaflet are available as [plugins](/plugins.html).\n",
    "\n",
    "### Visualisation of trajectories\n",
    "\n",
    "When you choose to plot trajectories on a map, you have to make a choice concerning how to represent points at the surface of a sphere (more precisely, an oblate spheroid) on a 2D plane. This transformation is called a [projection](https://serialmentor.com/dataviz/geospatial-data.html#projections).\n",
    "\n",
    "The choice of the right projection depends on the data. The most basic projection (sometimes wrongly referred to as *no projection*) is the `PlateCarree()`, when you plot latitude on the y-axis and longitude on the x-axis. The famous `Mercator()` projection distorts the latitude so as lines with constant bearing appear as straight lines. Conformal projections are also convenient when plotting smaller areas (countries) as they preserve distances (locally).\n",
    "\n",
    "Many countries define official projections to produce maps of their territory. In general, they fall either in the conformal or in the Transverse Mercator category. `Lambert93()` projection is defined over France, `GaussKruger()` over Germany, `Amersfoort()` over the Netherlands, `OSGB()` over the British Islands, etc.\n",
    "\n",
    "When plotting trajectories over Western Europe, `EuroPP()` is a decent choice.\n",
    "\n"
   ]
  },
  {
   "cell_type": "code",
   "execution_count": null,
   "metadata": {},
   "outputs": [],
   "source": [
    "from traffic.data.samples import airbus_tree"
   ]
  },
  {
   "cell_type": "code",
   "execution_count": null,
   "metadata": {},
   "outputs": [],
   "source": [
    "%matplotlib inline\n",
    "import matplotlib.pyplot as plt\n",
    "\n",
    "from traffic.core.projection import Amersfoort, GaussKruger, Lambert93, EuroPP\n",
    "from traffic.drawing import countries\n",
    "\n",
    "with plt.style.context(\"traffic\"):\n",
    "    fig = plt.figure()\n",
    "\n",
    "    # Choose the projection type\n",
    "    ax0 = fig.add_subplot(221, projection=EuroPP())\n",
    "    ax1 = fig.add_subplot(222, projection=Lambert93())\n",
    "    ax2 = fig.add_subplot(223, projection=Amersfoort())\n",
    "    ax3 = fig.add_subplot(224, projection=GaussKruger())\n",
    "\n",
    "    for ax in [ax0, ax1, ax2, ax3]:\n",
    "        ax.add_feature(countries())\n",
    "        # Maximum extent for the map\n",
    "        ax.set_global()\n",
    "        # Remove border and set transparency for background\n",
    "        ax.outline_patch.set_visible(False)\n",
    "        ax.background_patch.set_visible(False)\n",
    "\n",
    "    # Flight.plot returns the result from Matplotlib as is\n",
    "    # Here we catch it to reuse the color of each trajectory\n",
    "    ret, *_ = quickstart[\"AFR27GH\"].plot(ax0)\n",
    "    quickstart[\"AFR27GH\"].plot(\n",
    "        ax1, color=ret.get_color(), linewidth=2\n",
    "    )\n",
    "\n",
    "    ret, *_ = belevingsvlucht.plot(ax0)\n",
    "    belevingsvlucht.plot(\n",
    "        ax2, color=ret.get_color(), linewidth=2\n",
    "    )\n",
    "\n",
    "    ret, *_ = airbus_tree.plot(ax0)\n",
    "    airbus_tree.plot(\n",
    "        ax3, color=ret.get_color(), linewidth=2\n",
    "    )\n",
    "\n",
    "    # We reduce here the extent of the EuroPP() map\n",
    "    # between 8°W and 18°E, and 40°N and 60°N\n",
    "    ax0.set_extent((-8, 18, 40, 60))\n",
    "    \n",
    "    params = dict(fontname=\"Ubuntu\", fontsize=18, pad=12)\n",
    "\n",
    "    ax0.set_title(\"EuroPP()\", **params)\n",
    "    ax1.set_title(\"Lambert93()\", **params)\n",
    "    ax2.set_title(\"Amersfoort()\", **params)\n",
    "    ax3.set_title(\"GaussKruger()\", **params)\n",
    "\n",
    "    fig.tight_layout()"
   ]
  },
  {
   "cell_type": "markdown",
   "metadata": {},
   "source": [
    "Altair API is not very mature yet with geographical data, but basic visualisations are possible."
   ]
  },
  {
   "cell_type": "code",
   "execution_count": null,
   "metadata": {},
   "outputs": [],
   "source": [
    "# Mercator projection is the default one with Altair\n",
    "quickstart[\"AFR27GH\"].geoencode().project(type=\"mercator\")"
   ]
  },
  {
   "cell_type": "markdown",
   "metadata": {},
   "source": [
    "### Visualisation of time series\n",
    "\n",
    "Facilities are provided to plot time series, after a basic cleaning of data (remove NaN values), both with Matplotlib and Altair. The traffic style context offers a convenient first style to customise further."
   ]
  },
  {
   "cell_type": "code",
   "execution_count": null,
   "metadata": {},
   "outputs": [],
   "source": [
    "with plt.style.context(\"traffic\"):\n",
    "    fig, ax = plt.subplots(figsize=(10, 7))\n",
    "    between1920.plot_time(\n",
    "        ax, y=[\"altitude\", \"groundspeed\"], secondary_y=[\"groundspeed\"]\n",
    "    )"
   ]
  },
  {
   "cell_type": "code",
   "execution_count": null,
   "metadata": {},
   "outputs": [],
   "source": [
    "(\n",
    "    quickstart[\"EZY81GE\"].encode(\"groundspeed\")\n",
    "    + quickstart[\"EZY743L\"].encode(\"groundspeed\")\n",
    "    + quickstart[\"AFR27GH\"].encode(\"groundspeed\")\n",
    ")"
   ]
  },
  {
   "cell_type": "markdown",
   "metadata": {},
   "source": [
    "## Sources of data\n",
    "\n",
    "Basic navigational data are embedded in the library, together with parsing facilities for most common sources of information, with a main focus on Europe at the time being. \n",
    "\n",
    "Airspaces are a key element of aviation: they are regulated by specific rules, whereby navigation is allowed to determined types of aircraft meeting strict requirements. Such volumes, assigned to air traffic controllers to ensure the safety of flights and proper separation between aircraft are most commonly described as a combination of extruded polygons. Flight Information Regions (FIR) are one of the basic form of airspaces.\n",
    "\n",
    "A non official list of European FIRs, airports, navaids and airways is available in the traffic library (Details [here](/data.html)).\n"
   ]
  },
  {
   "cell_type": "code",
   "execution_count": null,
   "metadata": {},
   "outputs": [],
   "source": [
    "from traffic.data import eurofirs\n",
    "\n",
    "# LISBOA FIR\n",
    "eurofirs[\"LPPC\"].geoencode()"
   ]
  },
  {
   "cell_type": "code",
   "execution_count": null,
   "metadata": {},
   "outputs": [],
   "source": [
    "from traffic.data import airports\n",
    "\n",
    "airports[\"AMS\"]"
   ]
  },
  {
   "cell_type": "markdown",
   "metadata": {},
   "source": [
    "The details of airport representations are also available (fetched from OpenStreetMap) in their Matplotlib and Altair representation."
   ]
  },
  {
   "cell_type": "code",
   "execution_count": null,
   "metadata": {},
   "outputs": [],
   "source": [
    "airports[\"LFBO\"].geoencode(runways=True, labels=True)"
   ]
  },
  {
   "cell_type": "markdown",
   "metadata": {},
   "source": [
    "Intersections can be computed between trajectories and geometries (airports, airspaces). `Flight.intersects()` provides a fast boolean test; `Flight.clip()` trims the trajectory between the first point of entry in and last point of exit from the 2D footprint of the geometry."
   ]
  },
  {
   "cell_type": "code",
   "execution_count": null,
   "metadata": {},
   "outputs": [],
   "source": [
    "belevingsvlucht.intersects(airports[\"EHAM\"])"
   ]
  },
  {
   "cell_type": "markdown",
   "metadata": {},
   "source": [
    "Of course, all these methods can be chained."
   ]
  },
  {
   "cell_type": "code",
   "execution_count": null,
   "metadata": {},
   "outputs": [],
   "source": [
    "(\n",
    "    airports[\"EHAM\"].geoencode(runways=True, labels=True)\n",
    "    + belevingsvlucht.last(hours=1)\n",
    "    .clip(airports[\"EHAM\"])\n",
    "    .geoencode()\n",
    "    .mark_line(color=\"crimson\")\n",
    ")"
   ]
  },
  {
   "cell_type": "markdown",
   "metadata": {},
   "source": [
    "## A simple use case\n",
    "\n",
    "The following use case showcases various preprocessing methods that can be chained to select all trajectories landing at Toulouse airport. We will need the coordinates of Toulouse Terminal Maneuvering Area (TMA) which is available in Eurocontrol AIRAC files.\n",
    "\n",
    "You may not be entitled access to these data but the coordinates of Toulouse TMA are public, so we provide them in this library for the sake of this example.\n",
    "\n",
    "**If you have set the configuration for the AIRAC files (details [here](/airac_usage.html)), you may uncomment the following cell.**"
   ]
  },
  {
   "cell_type": "code",
   "execution_count": null,
   "metadata": {},
   "outputs": [],
   "source": [
    "# from traffic.data import nm_airspaces\n",
    "# lfbo_tma = nm_airspaces[\"LFBOTMA\"]"
   ]
  },
  {
   "cell_type": "markdown",
   "metadata": {},
   "source": [
    "Since you may not be entitled access to these data and coordinates of Toulouse TMA are public, we provide them in this library for the sake of this example."
   ]
  },
  {
   "cell_type": "code",
   "execution_count": null,
   "metadata": {},
   "outputs": [],
   "source": [
    "from traffic.data.samples import lfbo_tma\n",
    "\n",
    "lfbo_tma"
   ]
  },
  {
   "cell_type": "markdown",
   "metadata": {},
   "source": [
    "A first common necessary prepocessing concerns filtering of faulty values, esp. when data comes for a wide network of ADS-B sensors such as the OpenSky Network. A common pattern in such data is spikes in various signals, esp. altitude. Some filtering methods have been developped to take this faulty values out:"
   ]
  },
  {
   "cell_type": "code",
   "execution_count": null,
   "metadata": {},
   "outputs": [],
   "source": [
    "hop87dj = quickstart[\"HOP87DJ\"]\n",
    "# Set a different callsign and identify signals on the visualisation\n",
    "filtered = hop87dj.filter().assign(callsign=\"HOP87DJ+\")"
   ]
  },
  {
   "cell_type": "code",
   "execution_count": null,
   "metadata": {},
   "outputs": [],
   "source": [
    "import altair as alt\n",
    "\n",
    "# Let's define a common y-scale for both flights\n",
    "scale = alt.Scale(domain=(0, 40000))\n",
    "\n",
    "visualisations = [\n",
    "    (flight.encode(alt.Y(\"altitude\", scale=scale)).properties(height=180, width=360))\n",
    "    for flight in [hop87dj, filtered]\n",
    "]\n",
    "\n",
    "alt.vconcat(*visualisations)"
   ]
  },
  {
   "cell_type": "markdown",
   "metadata": {},
   "source": [
    "Let's select first trajectories intersecting Toulouse TMA, filter signals, then plot the results."
   ]
  },
  {
   "cell_type": "code",
   "execution_count": null,
   "metadata": {},
   "outputs": [],
   "source": [
    "# A progressbar may be convenient...\n",
    "landing_trajectories = []\n",
    "\n",
    "for flight in quickstart:\n",
    "    if flight.intersects(lfbo_tma):\n",
    "        filtered = flight.filter()\n",
    "        landing_trajectories.append(filtered)\n",
    "\n",
    "t_tma = Traffic.from_flights(landing_trajectories)\n",
    "t_tma"
   ]
  },
  {
   "cell_type": "code",
   "execution_count": null,
   "metadata": {},
   "outputs": [],
   "source": [
    "from traffic.drawing import location\n",
    "\n",
    "with plt.style.context(\"traffic\"):\n",
    "    fig, ax = plt.subplots(subplot_kw=dict(projection=Lambert93()))\n",
    "    ax.background_patch.set_visible(False)\n",
    "    ax.outline_patch.set_visible(False)\n",
    "\n",
    "    # We may add contours from OpenStreetMap\n",
    "    # (Occitanie is the name of the administrative region)\n",
    "    location(\"Occitanie\").plot(ax, linestyle=\"dotted\")\n",
    "    ax.set_extent(\"Occitanie\")\n",
    "\n",
    "    # Plot the airport, the TMA\n",
    "    airports[\"LFBO\"].plot(ax)\n",
    "    lfbo_tma.plot(ax, linewidth=2, linestyle=\"dashed\")\n",
    "\n",
    "    # and the resulting traffic\n",
    "    t_tma.plot(ax)"
   ]
  },
  {
   "cell_type": "markdown",
   "metadata": {},
   "source": [
    "There is still one trajectory which does not seem to be coming to Toulouse airport. Also, we actually wanted to select landing trajectories. Let's only select trajectories coming below 10,000 ft and with an average vertical speed below 1,000 ft/min."
   ]
  },
  {
   "cell_type": "code",
   "execution_count": null,
   "metadata": {},
   "outputs": [],
   "source": [
    "landing_trajectories = []\n",
    "\n",
    "for flight in quickstart:\n",
    "    if flight.intersects(lfbo_tma):\n",
    "        filtered = flight.filter()\n",
    "        if filtered.min(\"altitude\") < 10_000:\n",
    "            if filtered.mean(\"vertical_rate\") < - 500:\n",
    "                landing_trajectories.append(filtered)\n",
    "\n",
    "t_tma = Traffic.from_flights(landing_trajectories)\n",
    "t_tma"
   ]
  },
  {
   "cell_type": "code",
   "execution_count": null,
   "metadata": {},
   "outputs": [],
   "source": [
    "from traffic.drawing import location\n",
    "\n",
    "with plt.style.context(\"traffic\"):\n",
    "    fig, ax = plt.subplots(subplot_kw=dict(projection=Lambert93()))\n",
    "    ax.background_patch.set_visible(False)\n",
    "    ax.outline_patch.set_visible(False)\n",
    "\n",
    "    # We may add contours from OpenStreetMap\n",
    "    # (Occitanie is the name of the administrative region)\n",
    "    location(\"Occitanie\").plot(ax, linestyle=\"dotted\")\n",
    "    ax.set_extent(\"Occitanie\")\n",
    "\n",
    "    # Plot the airport, the TMA\n",
    "    airports[\"LFBO\"].plot(ax)\n",
    "    lfbo_tma.plot(ax, linewidth=2, linestyle=\"dashed\")\n",
    "\n",
    "    # and the resulting traffic\n",
    "    t_tma.plot(ax, alpha=0.5)\n",
    "\n",
    "    for flight in t_tma:\n",
    "        flight_before = flight.before(\"2017-07-16 20:00\")\n",
    "\n",
    "        # Avoid unnecessary noise on the map\n",
    "        if 1000 < flight_before.at().altitude < 20000:\n",
    "\n",
    "            flight_before.plot(ax, alpha=0.5, color=\"crimson\")\n",
    "            flight_before.at().plot(ax, s=20, text_kw=dict(s=flight.callsign))"
   ]
  },
  {
   "cell_type": "markdown",
   "metadata": {},
   "source": [
    "## Lazy iteration\n",
    "\n",
    "Basic operations on Flights define a little language which enables to express programmatically any kind of preprocessing.\n",
    "\n",
    "The downside with programmatic preprocessing is that it may become unnecessarily complex and nested with loops and conditions to express even basic treatments. As a reference, here is the final code we came to:"
   ]
  },
  {
   "cell_type": "code",
   "execution_count": null,
   "metadata": {},
   "outputs": [],
   "source": [
    "# unnecessary list\n",
    "landing_trajectories = []\n",
    "\n",
    "for flight in quickstart:\n",
    "    # loop\n",
    "    if flight.intersects(lfbo_tma):\n",
    "        # first condition\n",
    "        filtered = flight.filter()\n",
    "        if filtered.min(\"altitude\") < 10_000:\n",
    "            # second condition\n",
    "            if filtered.mean(\"vertical_rate\") < 1_000:\n",
    "                # third condition\n",
    "                landing_trajectories.append(filtered)\n",
    "\n",
    "t_tma = Traffic.from_flights(landing_trajectories)"
   ]
  },
  {
   "cell_type": "markdown",
   "metadata": {},
   "source": [
    "As we define operations on single trajectories, we may also want to express operations, like filtering or intersections on collections of trajectories rather than single ones.\n",
    "\n",
    "```python\n",
    "# Traffic.filter() would be\n",
    "Traffic.from_flights(\n",
    "    flight.filter() for flight in quickstart\n",
    ")\n",
    "\n",
    "# Traffic.intersects(airspace) would be\n",
    "Traffic.from_flights(\n",
    "    flight for flight in quickstart\n",
    "    if flight.intersects(airspace)\n",
    ")\n",
    "```\n",
    "\n",
    "Such implementation would be very inefficient because Python would constantly start a new iteration for every single operation that is chained. To avoid this, a mechanism of **lazy iteration** has been implemented:\n",
    "\n",
    "- Most `Flight` methods returning a `Flight`, a boolean or `None` can be stacked on `Traffic` structures;\n",
    "- When such a method is stacked, it is **not** evaluated, just pushed for later evaluation;\n",
    "- The final `.eval()` call starts one single iteration and apply all stacked method to every `Flight` it can iterate on.\n",
    "- If one of the methods returns `False` or `None`, the `Flight` is discarded;\n",
    "- If one of the methods returns `True`, the `Flight` is passed as is not the next method.\n",
    "\n"
   ]
  },
  {
   "cell_type": "code",
   "execution_count": null,
   "metadata": {},
   "outputs": [],
   "source": [
    "# A custom grammar can be defined\n",
    "# here we define conditions for detecting landing trajectories\n",
    "\n",
    "def landing_trajectory(flight: \"Flight\") -> bool:\n",
    "    return flight.min(\"altitude\") < 10_000 and flight.mean(\"vertical_rate\") < -500\n",
    "\n",
    "\n",
    "t_tma = (\n",
    "    quickstart\n",
    "    # non intersecting flights are discarded\n",
    "    .intersects(lfbo_tma)\n",
    "    # intersecting flights are filtered\n",
    "    .filter()\n",
    "    # filtered flights not matching the condition are discarded\n",
    "    .filter_if(landing_trajectory)\n",
    "    # final multiprocessed evaluation (4 cores) through one iteration\n",
    "    .eval(max_workers=4)\n",
    ")\n",
    "t_tma"
   ]
  },
  {
   "cell_type": "code",
   "execution_count": null,
   "metadata": {},
   "outputs": [],
   "source": []
  }
 ],
 "metadata": {
  "colab": {
   "name": "quickstart.ipynb",
   "private_outputs": true,
   "provenance": []
  },
  "kernelspec": {
   "display_name": "Python 3",
   "language": "python",
   "name": "python3"
  },
  "language_info": {
   "codemirror_mode": {
    "name": "ipython",
    "version": 3
   },
   "file_extension": ".py",
   "mimetype": "text/x-python",
   "name": "python",
   "nbconvert_exporter": "python",
   "pygments_lexer": "ipython3",
   "version": "3.7.2"
  }
 },
 "nbformat": 4,
 "nbformat_minor": 2
}
